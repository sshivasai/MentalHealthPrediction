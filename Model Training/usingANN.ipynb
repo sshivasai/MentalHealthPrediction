{
  "cells": [
    {
      "cell_type": "markdown",
      "metadata": {
        "id": "HKU7gCyrUL1J"
      },
      "source": [
        "#Library and Data Loading"
      ]
    },
    {
      "cell_type": "code",
      "execution_count": 10,
      "metadata": {
        "id": "JaSY8PmhMoK8"
      },
      "outputs": [],
      "source": [
        "import numpy as np\n",
        "import pandas as pd\n",
        "import matplotlib.pyplot as plt\n",
        "import seaborn as sns\n",
        "import pickle\n",
        "\n",
        "from sklearn.model_selection import train_test_split\n"
      ]
    },
    {
      "cell_type": "code",
      "execution_count": 8,
      "metadata": {
        "colab": {
          "base_uri": "https://localhost:8080/"
        },
        "id": "KIVsuSklXTWM",
        "outputId": "e9ff87ee-7bd6-4503-cd9c-671b22ce548f"
      },
      "outputs": [
        {
          "output_type": "stream",
          "name": "stdout",
          "text": [
            "(1257, 25)\n",
            "        Unnamed: 0          Age       Gender  self_employed  family_history  \\\n",
            "count  1257.000000  1257.000000  1257.000000    1257.000000     1257.000000   \n",
            "mean    628.317422     0.319140     0.818616       0.114558        0.389817   \n",
            "std     363.461683     0.162648     0.422915       0.318615        0.487903   \n",
            "min       0.000000     0.000000     0.000000       0.000000        0.000000   \n",
            "25%     314.000000     0.204545     1.000000       0.000000        0.000000   \n",
            "50%     628.000000     0.295455     1.000000       0.000000        0.000000   \n",
            "75%     942.000000     0.409091     1.000000       0.000000        1.000000   \n",
            "max    1258.000000     1.000000     2.000000       1.000000        1.000000   \n",
            "\n",
            "         treatment  work_interfere  no_employees  remote_work  tech_company  \\\n",
            "count  1257.000000     1257.000000   1257.000000  1257.000000   1257.000000   \n",
            "mean      0.505171        2.287987      2.787589     0.297534      0.818616   \n",
            "std       0.500172        1.595612      1.738082     0.457355      0.385490   \n",
            "min       0.000000        0.000000      0.000000     0.000000      0.000000   \n",
            "25%       0.000000        1.000000      1.000000     0.000000      1.000000   \n",
            "50%       1.000000        3.000000      3.000000     0.000000      1.000000   \n",
            "75%       1.000000        4.000000      4.000000     1.000000      1.000000   \n",
            "max       1.000000        4.000000      5.000000     1.000000      1.000000   \n",
            "\n",
            "       ...        leave  mental_health_consequence  phys_health_consequence  \\\n",
            "count  ...  1257.000000                1257.000000              1257.000000   \n",
            "mean   ...     1.406523                   0.851233                 0.829753   \n",
            "std    ...     1.506162                   0.767150                 0.485102   \n",
            "min    ...     0.000000                   0.000000                 0.000000   \n",
            "25%    ...     0.000000                   0.000000                 1.000000   \n",
            "50%    ...     1.000000                   1.000000                 1.000000   \n",
            "75%    ...     2.000000                   1.000000                 1.000000   \n",
            "max    ...     4.000000                   2.000000                 2.000000   \n",
            "\n",
            "         coworkers   supervisor  mental_health_interview  \\\n",
            "count  1257.000000  1257.000000              1257.000000   \n",
            "mean      0.970565     1.096261                 0.868735   \n",
            "std       0.619425     0.844310                 0.425446   \n",
            "min       0.000000     0.000000                 0.000000   \n",
            "25%       1.000000     0.000000                 1.000000   \n",
            "50%       1.000000     1.000000                 1.000000   \n",
            "75%       1.000000     2.000000                 1.000000   \n",
            "max       2.000000     2.000000                 2.000000   \n",
            "\n",
            "       phys_health_interview  mental_vs_physical  obs_consequence    age_range  \n",
            "count            1257.000000         1257.000000      1257.000000  1257.000000  \n",
            "mean                0.715990            0.813047         0.144789     1.522673  \n",
            "std                 0.722483            0.833736         0.352028     0.535078  \n",
            "min                 0.000000            0.000000         0.000000     0.000000  \n",
            "25%                 0.000000            0.000000         0.000000     1.000000  \n",
            "50%                 1.000000            1.000000         0.000000     2.000000  \n",
            "75%                 1.000000            2.000000         0.000000     2.000000  \n",
            "max                 2.000000            2.000000         1.000000     3.000000  \n",
            "\n",
            "[8 rows x 25 columns]\n",
            "<class 'pandas.core.frame.DataFrame'>\n",
            "RangeIndex: 1257 entries, 0 to 1256\n",
            "Data columns (total 25 columns):\n",
            " #   Column                     Non-Null Count  Dtype  \n",
            "---  ------                     --------------  -----  \n",
            " 0   Unnamed: 0                 1257 non-null   int64  \n",
            " 1   Age                        1257 non-null   float64\n",
            " 2   Gender                     1257 non-null   int64  \n",
            " 3   self_employed              1257 non-null   int64  \n",
            " 4   family_history             1257 non-null   int64  \n",
            " 5   treatment                  1257 non-null   int64  \n",
            " 6   work_interfere             1257 non-null   int64  \n",
            " 7   no_employees               1257 non-null   int64  \n",
            " 8   remote_work                1257 non-null   int64  \n",
            " 9   tech_company               1257 non-null   int64  \n",
            " 10  benefits                   1257 non-null   int64  \n",
            " 11  care_options               1257 non-null   int64  \n",
            " 12  wellness_program           1257 non-null   int64  \n",
            " 13  seek_help                  1257 non-null   int64  \n",
            " 14  anonymity                  1257 non-null   int64  \n",
            " 15  leave                      1257 non-null   int64  \n",
            " 16  mental_health_consequence  1257 non-null   int64  \n",
            " 17  phys_health_consequence    1257 non-null   int64  \n",
            " 18  coworkers                  1257 non-null   int64  \n",
            " 19  supervisor                 1257 non-null   int64  \n",
            " 20  mental_health_interview    1257 non-null   int64  \n",
            " 21  phys_health_interview      1257 non-null   int64  \n",
            " 22  mental_vs_physical         1257 non-null   int64  \n",
            " 23  obs_consequence            1257 non-null   int64  \n",
            " 24  age_range                  1257 non-null   int64  \n",
            "dtypes: float64(1), int64(24)\n",
            "memory usage: 245.6 KB\n",
            "None\n"
          ]
        }
      ],
      "source": [
        "train_df = pd.read_csv('Dataset/cleandata.csv')\n",
        "print(train_df.shape)\n",
        "print(train_df.describe())\n",
        "print(train_df.info())"
      ]
    },
    {
      "cell_type": "code",
      "execution_count": 11,
      "metadata": {
        "id": "d4PCK9kudFlM"
      },
      "outputs": [],
      "source": [
        "# define X and y\n",
        "feature_cols = ['Age', 'Gender', 'family_history', 'benefits', 'care_options', 'anonymity', 'leave', 'work_interfere']\n",
        "X = train_df[feature_cols]\n",
        "y = train_df.treatment\n",
        "\n",
        "# split X and y into training and testing sets\n",
        "X_train, X_test, y_train, y_test = train_test_split(X, y, test_size=0.30, random_state=0)\n",
        "\n",
        "# Create dictionaries for final graph\n",
        "# Use: methodDict['Stacking'] = accuracy_score\n",
        "methodDict = {}\n",
        "rmseDict = ()"
      ]
    },
    {
      "cell_type": "code",
      "execution_count": 13,
      "metadata": {
        "id": "uV5cCeJuku5Y"
      },
      "outputs": [],
      "source": [
        "\n",
        "import tensorflow as tf\n",
        "import argparse"
      ]
    },
    {
      "cell_type": "code",
      "execution_count": 14,
      "metadata": {
        "colab": {
          "base_uri": "https://localhost:8080/"
        },
        "id": "wVaBMhL3orLQ",
        "outputId": "846cce90-c721-432c-fe46-e2f28abe3ea7"
      },
      "outputs": [
        {
          "output_type": "stream",
          "name": "stdout",
          "text": [
            "2.9.2\n"
          ]
        }
      ],
      "source": [
        "print(tf.__version__)"
      ]
    },
    {
      "cell_type": "code",
      "execution_count": 15,
      "metadata": {
        "id": "052nJ7QslObk"
      },
      "outputs": [],
      "source": [
        "batch_size = 100\n",
        "train_steps = 1000\n",
        "\n",
        "X_train, X_test, y_train, y_test = train_test_split(X, y, test_size=0.30, random_state=0)\n",
        "\n",
        "def train_input_fn(features, labels, batch_size):\n",
        "    \"\"\"An input function for training\"\"\"\n",
        "    # Convert the inputs to a Dataset.\n",
        "    dataset = tf.data.Dataset.from_tensor_slices((dict(features), labels))\n",
        "\n",
        "    # Shuffle, repeat, and batch the examples.\n",
        "    return dataset.shuffle(1000).repeat().batch(batch_size)\n",
        "\n",
        "def eval_input_fn(features, labels, batch_size):\n",
        "    \"\"\"An input function for evaluation or prediction\"\"\"\n",
        "    features=dict(features)\n",
        "    if labels is None:\n",
        "        # No labels, use only features.\n",
        "        inputs = features\n",
        "    else:\n",
        "        inputs = (features, labels)\n",
        "\n",
        "    # Convert the inputs to a Dataset.\n",
        "    dataset = tf.data.Dataset.from_tensor_slices(inputs)\n",
        "\n",
        "    # Batch the examples\n",
        "    assert batch_size is not None, \"batch_size must not be None\"\n",
        "    dataset = dataset.batch(batch_size)\n",
        "\n",
        "    # Return the dataset.\n",
        "    return dataset"
      ]
    },
    {
      "cell_type": "markdown",
      "metadata": {
        "id": "LxxCxpSGlmJh"
      },
      "source": [
        "Define the feature columns"
      ]
    },
    {
      "cell_type": "code",
      "execution_count": 16,
      "metadata": {
        "id": "R61A8-p5lZg3"
      },
      "outputs": [],
      "source": [
        "# Define Tensorflow feature columns\n",
        "age = tf.feature_column.numeric_column(\"Age\")\n",
        "gender = tf.feature_column.numeric_column(\"Gender\")\n",
        "family_history = tf.feature_column.numeric_column(\"family_history\")\n",
        "benefits = tf.feature_column.numeric_column(\"benefits\")\n",
        "care_options = tf.feature_column.numeric_column(\"care_options\")\n",
        "anonymity = tf.feature_column.numeric_column(\"anonymity\")\n",
        "leave = tf.feature_column.numeric_column(\"leave\")\n",
        "work_interfere = tf.feature_column.numeric_column(\"work_interfere\")\n",
        "feature_columns = [age, gender, family_history, benefits, care_options, anonymity, leave, work_interfere]"
      ]
    },
    {
      "cell_type": "markdown",
      "metadata": {
        "id": "iom0cxX3lvIv"
      },
      "source": [
        "Instantiate an Estimator"
      ]
    },
    {
      "cell_type": "code",
      "execution_count": 27,
      "metadata": {
        "colab": {
          "base_uri": "https://localhost:8080/"
        },
        "id": "VL70hhsblplj",
        "outputId": "5b02d34c-8c34-4ecd-e74d-57a29127a373"
      },
      "outputs": [
        {
          "output_type": "stream",
          "name": "stderr",
          "text": [
            "WARNING:tensorflow:Using temporary folder as model directory: /tmp/tmpskkgm5o0\n"
          ]
        }
      ],
      "source": [
        "# Build a DNN with 2 hidden layers and 10 nodes in each hidden layer.\n",
        "model = tf.estimator.DNNClassifier(feature_columns=feature_columns,\n",
        "                                    hidden_units=[10, 10],\n",
        "                                   optimizer='Adagrad',\n",
        "                                   \n",
        "                                   activation_fn=tf.nn.relu,\n",
        "                                    )"
      ]
    },
    {
      "cell_type": "code",
      "source": [
        "model = tf.estimator.DNNClassifier(\n",
        "    feature_columns=feature_columns,\n",
        "    hidden_units=[1024, 512, 256],\n",
        "    optimizer=lambda: tf.keras.optimizers.Adam(\n",
        "        learning_rate=tf.compat.v1.train.exponential_decay(\n",
        "            learning_rate=0.1,\n",
        "            global_step=tf.compat.v1.train.get_global_step(),\n",
        "            decay_steps=10000,\n",
        "            decay_rate=0.96)))"
      ],
      "metadata": {
        "colab": {
          "base_uri": "https://localhost:8080/"
        },
        "id": "8-rpAe-pLCAz",
        "outputId": "f96cd068-979f-470a-ced5-4485545ccc46"
      },
      "execution_count": 32,
      "outputs": [
        {
          "output_type": "stream",
          "name": "stderr",
          "text": [
            "WARNING:tensorflow:Using temporary folder as model directory: /tmp/tmpv3ovbbj4\n"
          ]
        }
      ]
    },
    {
      "cell_type": "markdown",
      "metadata": {
        "id": "50LjE4jymBHn"
      },
      "source": [
        "Train the model"
      ]
    },
    {
      "cell_type": "code",
      "execution_count": 33,
      "metadata": {
        "colab": {
          "base_uri": "https://localhost:8080/"
        },
        "id": "-0TS4sSTlyrk",
        "outputId": "ef119a21-31b5-4725-9e34-199aa703005b"
      },
      "outputs": [
        {
          "output_type": "execute_result",
          "data": {
            "text/plain": [
              "<tensorflow_estimator.python.estimator.canned.dnn.DNNClassifierV2 at 0x7f20686632b0>"
            ]
          },
          "metadata": {},
          "execution_count": 33
        }
      ],
      "source": [
        "model.train(input_fn=lambda:train_input_fn(X_train, y_train, batch_size), steps=train_steps,verbose=True)"
      ]
    },
    {
      "cell_type": "markdown",
      "metadata": {
        "id": "fnibVSWuqMgV"
      },
      "source": [
        "Evaluate the model"
      ]
    },
    {
      "cell_type": "code",
      "execution_count": 34,
      "metadata": {
        "colab": {
          "base_uri": "https://localhost:8080/"
        },
        "id": "ZbSZMOvzqIfa",
        "outputId": "e94f197f-ccd1-4876-97cc-affcfd7471fb"
      },
      "outputs": [
        {
          "output_type": "stream",
          "name": "stdout",
          "text": [
            "\n",
            "Test set accuracy: 0.81\n",
            "\n"
          ]
        }
      ],
      "source": [
        "# Evaluate the model.\n",
        "eval_result = model.evaluate(\n",
        "    input_fn=lambda:eval_input_fn(X_test, y_test, batch_size))\n",
        "\n",
        "print('\\nTest set accuracy: {accuracy:0.2f}\\n'.format(**eval_result))\n",
        "\n",
        "#Data for final graph\n",
        "accuracy = eval_result['accuracy'] * 100\n",
        "methodDict['Neural Network'] = accuracy"
      ]
    },
    {
      "cell_type": "markdown",
      "metadata": {
        "id": "ThzYnW6MqU27"
      },
      "source": [
        "Making predictions (inferring) from the trained model"
      ]
    },
    {
      "cell_type": "code",
      "execution_count": 35,
      "metadata": {
        "id": "uU3dQmR6qQmy"
      },
      "outputs": [],
      "source": [
        "predictions = list(model.predict(input_fn=lambda:eval_input_fn(X_train, y_train, batch_size=batch_size)))"
      ]
    },
    {
      "cell_type": "code",
      "execution_count": 36,
      "metadata": {
        "colab": {
          "base_uri": "https://localhost:8080/",
          "height": 206
        },
        "id": "-v8sJZumqXhr",
        "outputId": "eeb2b597-0a94-49fc-a3e0-0b994c8a9606"
      },
      "outputs": [
        {
          "output_type": "execute_result",
          "data": {
            "text/plain": [
              "   index  prediction  expected\n",
              "0    929           0         0\n",
              "1    901           1         1\n",
              "2    579           1         1\n",
              "3    367           1         1\n",
              "4    615           1         1"
            ],
            "text/html": [
              "\n",
              "  <div id=\"df-07110b40-2208-4524-8ff1-fd575ff4f4db\">\n",
              "    <div class=\"colab-df-container\">\n",
              "      <div>\n",
              "<style scoped>\n",
              "    .dataframe tbody tr th:only-of-type {\n",
              "        vertical-align: middle;\n",
              "    }\n",
              "\n",
              "    .dataframe tbody tr th {\n",
              "        vertical-align: top;\n",
              "    }\n",
              "\n",
              "    .dataframe thead th {\n",
              "        text-align: right;\n",
              "    }\n",
              "</style>\n",
              "<table border=\"1\" class=\"dataframe\">\n",
              "  <thead>\n",
              "    <tr style=\"text-align: right;\">\n",
              "      <th></th>\n",
              "      <th>index</th>\n",
              "      <th>prediction</th>\n",
              "      <th>expected</th>\n",
              "    </tr>\n",
              "  </thead>\n",
              "  <tbody>\n",
              "    <tr>\n",
              "      <th>0</th>\n",
              "      <td>929</td>\n",
              "      <td>0</td>\n",
              "      <td>0</td>\n",
              "    </tr>\n",
              "    <tr>\n",
              "      <th>1</th>\n",
              "      <td>901</td>\n",
              "      <td>1</td>\n",
              "      <td>1</td>\n",
              "    </tr>\n",
              "    <tr>\n",
              "      <th>2</th>\n",
              "      <td>579</td>\n",
              "      <td>1</td>\n",
              "      <td>1</td>\n",
              "    </tr>\n",
              "    <tr>\n",
              "      <th>3</th>\n",
              "      <td>367</td>\n",
              "      <td>1</td>\n",
              "      <td>1</td>\n",
              "    </tr>\n",
              "    <tr>\n",
              "      <th>4</th>\n",
              "      <td>615</td>\n",
              "      <td>1</td>\n",
              "      <td>1</td>\n",
              "    </tr>\n",
              "  </tbody>\n",
              "</table>\n",
              "</div>\n",
              "      <button class=\"colab-df-convert\" onclick=\"convertToInteractive('df-07110b40-2208-4524-8ff1-fd575ff4f4db')\"\n",
              "              title=\"Convert this dataframe to an interactive table.\"\n",
              "              style=\"display:none;\">\n",
              "        \n",
              "  <svg xmlns=\"http://www.w3.org/2000/svg\" height=\"24px\"viewBox=\"0 0 24 24\"\n",
              "       width=\"24px\">\n",
              "    <path d=\"M0 0h24v24H0V0z\" fill=\"none\"/>\n",
              "    <path d=\"M18.56 5.44l.94 2.06.94-2.06 2.06-.94-2.06-.94-.94-2.06-.94 2.06-2.06.94zm-11 1L8.5 8.5l.94-2.06 2.06-.94-2.06-.94L8.5 2.5l-.94 2.06-2.06.94zm10 10l.94 2.06.94-2.06 2.06-.94-2.06-.94-.94-2.06-.94 2.06-2.06.94z\"/><path d=\"M17.41 7.96l-1.37-1.37c-.4-.4-.92-.59-1.43-.59-.52 0-1.04.2-1.43.59L10.3 9.45l-7.72 7.72c-.78.78-.78 2.05 0 2.83L4 21.41c.39.39.9.59 1.41.59.51 0 1.02-.2 1.41-.59l7.78-7.78 2.81-2.81c.8-.78.8-2.07 0-2.86zM5.41 20L4 18.59l7.72-7.72 1.47 1.35L5.41 20z\"/>\n",
              "  </svg>\n",
              "      </button>\n",
              "      \n",
              "  <style>\n",
              "    .colab-df-container {\n",
              "      display:flex;\n",
              "      flex-wrap:wrap;\n",
              "      gap: 12px;\n",
              "    }\n",
              "\n",
              "    .colab-df-convert {\n",
              "      background-color: #E8F0FE;\n",
              "      border: none;\n",
              "      border-radius: 50%;\n",
              "      cursor: pointer;\n",
              "      display: none;\n",
              "      fill: #1967D2;\n",
              "      height: 32px;\n",
              "      padding: 0 0 0 0;\n",
              "      width: 32px;\n",
              "    }\n",
              "\n",
              "    .colab-df-convert:hover {\n",
              "      background-color: #E2EBFA;\n",
              "      box-shadow: 0px 1px 2px rgba(60, 64, 67, 0.3), 0px 1px 3px 1px rgba(60, 64, 67, 0.15);\n",
              "      fill: #174EA6;\n",
              "    }\n",
              "\n",
              "    [theme=dark] .colab-df-convert {\n",
              "      background-color: #3B4455;\n",
              "      fill: #D2E3FC;\n",
              "    }\n",
              "\n",
              "    [theme=dark] .colab-df-convert:hover {\n",
              "      background-color: #434B5C;\n",
              "      box-shadow: 0px 1px 3px 1px rgba(0, 0, 0, 0.15);\n",
              "      filter: drop-shadow(0px 1px 2px rgba(0, 0, 0, 0.3));\n",
              "      fill: #FFFFFF;\n",
              "    }\n",
              "  </style>\n",
              "\n",
              "      <script>\n",
              "        const buttonEl =\n",
              "          document.querySelector('#df-07110b40-2208-4524-8ff1-fd575ff4f4db button.colab-df-convert');\n",
              "        buttonEl.style.display =\n",
              "          google.colab.kernel.accessAllowed ? 'block' : 'none';\n",
              "\n",
              "        async function convertToInteractive(key) {\n",
              "          const element = document.querySelector('#df-07110b40-2208-4524-8ff1-fd575ff4f4db');\n",
              "          const dataTable =\n",
              "            await google.colab.kernel.invokeFunction('convertToInteractive',\n",
              "                                                     [key], {});\n",
              "          if (!dataTable) return;\n",
              "\n",
              "          const docLinkHtml = 'Like what you see? Visit the ' +\n",
              "            '<a target=\"_blank\" href=https://colab.research.google.com/notebooks/data_table.ipynb>data table notebook</a>'\n",
              "            + ' to learn more about interactive tables.';\n",
              "          element.innerHTML = '';\n",
              "          dataTable['output_type'] = 'display_data';\n",
              "          await google.colab.output.renderOutput(dataTable, element);\n",
              "          const docLink = document.createElement('div');\n",
              "          docLink.innerHTML = docLinkHtml;\n",
              "          element.appendChild(docLink);\n",
              "        }\n",
              "      </script>\n",
              "    </div>\n",
              "  </div>\n",
              "  "
            ]
          },
          "metadata": {},
          "execution_count": 36
        }
      ],
      "source": [
        "# Generate predictions from the model\n",
        "template = ('\\nIndex: \"{}\", Prediction is \"{}\" ({:.1f}%), expected \"{}\"')\n",
        "\n",
        "# Dictionary for predictions\n",
        "col1 = []\n",
        "col2 = []\n",
        "col3 = []\n",
        "\n",
        "\n",
        "for idx, input, p in zip(X_train.index, y_train, predictions):\n",
        "    v  = p[\"class_ids\"][0] \n",
        "    class_id = p['class_ids'][0]\n",
        "    probability = p['probabilities'][class_id] # Probability\n",
        "    \n",
        "    # Adding to dataframe\n",
        "    col1.append(idx) # Index\n",
        "    col2.append(v) # Prediction\n",
        "    col3.append(input) # Expecter\n",
        "    \n",
        "   \n",
        "    #print(template.format(idx, v, 100 * probability, input))\n",
        "\n",
        "\n",
        "results = pd.DataFrame({'index':col1, 'prediction':col2, 'expected':col3})\n",
        "results.head()"
      ]
    },
    {
      "cell_type": "markdown",
      "metadata": {
        "id": "jhxYxHNBqdxr"
      },
      "source": [
        "#Success method plot"
      ]
    },
    {
      "cell_type": "code",
      "execution_count": 37,
      "metadata": {
        "id": "AMSTgbylqbqB"
      },
      "outputs": [],
      "source": [
        "def plotSuccess():\n",
        "    s = pd.Series(methodDict)\n",
        "    s = s.sort_values(ascending=False)\n",
        "    plt.figure(figsize=(12,8))\n",
        "    #Colors\n",
        "    ax = s.plot(kind='bar') \n",
        "    for p in ax.patches:\n",
        "        ax.annotate(str(round(p.get_height(),2)), (p.get_x() * 1.005, p.get_height() * 1.005))\n",
        "    plt.ylim([70.0, 90.0])\n",
        "    plt.xlabel('Method')\n",
        "    plt.ylabel('Percentage')\n",
        "    plt.title('Success of methods')\n",
        "     \n",
        "    plt.show()"
      ]
    },
    {
      "cell_type": "code",
      "execution_count": 38,
      "metadata": {
        "colab": {
          "base_uri": "https://localhost:8080/",
          "height": 581
        },
        "id": "HQr49POJqjaB",
        "outputId": "2caeb3e2-e9e3-4eb9-e383-f509d87583ee"
      },
      "outputs": [
        {
          "output_type": "display_data",
          "data": {
            "text/plain": [
              "<Figure size 864x576 with 1 Axes>"
            ],
            "image/png": "[encoded data removed]"
          },
          "metadata": {
            "needs_background": "light"
          }
        }
      ],
      "source": [
        "plotSuccess()"
      ]
    },
    {
      "cell_type": "code",
      "source": [],
      "metadata": {
        "id": "YjEIt7o1MSlS"
      },
      "execution_count": null,
      "outputs": []
    }
  ],
  "metadata": {
    "colab": {
      "provenance": []
    },
    "kernelspec": {
      "display_name": "Python 3.11.0 ('env': venv)",
      "language": "python",
      "name": "python3"
    },
    "language_info": {
      "codemirror_mode": {
        "name": "ipython",
        "version": 3
      },
      "file_extension": ".py",
      "mimetype": "text/x-python",
      "name": "python",
      "nbconvert_exporter": "python",
      "pygments_lexer": "ipython3",
      "version": "3.11.0"
    },
    "vscode": {
      "interpreter": {
        "hash": "c50768ef6c0a7691beea791580cb9d117ed7e7011c80d3b25fd29321f863a070"
      }
    }
  },
  "nbformat": 4,
  "nbformat_minor": 0
}